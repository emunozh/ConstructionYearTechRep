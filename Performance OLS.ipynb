{
 "cells": [
  {
   "cell_type": "markdown",
   "metadata": {},
   "source": [
    "# The Use of Diffusion Algorithms for the Estimation of Construction Year Within Urban Models\n",
    "\n",
    "## Annex B: Performance quantification using a OLS model"
   ]
  },
  {
   "cell_type": "markdown",
   "metadata": {},
   "source": [
    "[M. Esteban Muñoz H.](marcelo.hidalgo@hcu-hamburg.de) &\n",
    "[Irene Peters](irene.peters@hcu-hamburg.de)\n",
    "\n",
    "Technical Urban Infrastructure Systems Group, HafenCity University, Hamburg, Germany"
   ]
  },
  {
   "cell_type": "markdown",
   "metadata": {},
   "source": [
    "#Table of Contents\n",
    "1. [Load data](#1.-Load-data)\n",
    "2. [Linear regression](#2.-Linear-regression)\n",
    "3. [Performance](#3.-Performance)"
   ]
  },
  {
   "cell_type": "code",
   "execution_count": 1,
   "metadata": {
    "collapsed": true
   },
   "outputs": [],
   "source": [
    "import pandas as pd\n",
    "import numpy as np\n",
    "import statsmodels.formula.api as smf\n",
    "from random import sample, seed\n",
    "seed(12346)\n",
    "%matplotlib inline\n",
    "from scripts.plots import plotPerformance"
   ]
  },
  {
   "cell_type": "markdown",
   "metadata": {},
   "source": [
    "# 1. Load data"
   ]
  },
  {
   "cell_type": "code",
   "execution_count": 2,
   "metadata": {
    "collapsed": true
   },
   "outputs": [],
   "source": [
    "Buildings = pd.read_hdf('data.h5', 'Buildings')"
   ]
  },
  {
   "cell_type": "code",
   "execution_count": 3,
   "metadata": {
    "collapsed": false
   },
   "outputs": [],
   "source": [
    "Buildings.drop(['stadtteil', 'shell', 'neighbours', 'geometry', 'statgeb'], inplace=True, axis=1)"
   ]
  },
  {
   "cell_type": "code",
   "execution_count": 4,
   "metadata": {
    "collapsed": false
   },
   "outputs": [],
   "source": [
    "Buildings_known = Buildings.drop(Buildings[Buildings.bja.isnull()].index)"
   ]
  },
  {
   "cell_type": "code",
   "execution_count": 5,
   "metadata": {
    "collapsed": true
   },
   "outputs": [],
   "source": [
    "def twochar(x):\n",
    "    return x[:-2]"
   ]
  },
  {
   "cell_type": "code",
   "execution_count": 6,
   "metadata": {
    "collapsed": false
   },
   "outputs": [],
   "source": [
    "Buildings_known[\"gfk\"] = Buildings_known[\"gfk\"].apply(twochar)"
   ]
  },
  {
   "cell_type": "markdown",
   "metadata": {},
   "source": [
    "coefficients on \"a\" an \"b\" would show effect of \"a\" and \"b\" relative to \"c\""
   ]
  },
  {
   "cell_type": "code",
   "execution_count": 7,
   "metadata": {
    "collapsed": true
   },
   "outputs": [],
   "source": [
    "Buildings_known[\"gfkbaw\"] = [\"{}-{}\".format(a,b) for a,b in zip(Buildings_known[\"gfk\"], Buildings_known[\"baw\"])]"
   ]
  },
  {
   "cell_type": "code",
   "execution_count": 8,
   "metadata": {
    "collapsed": false
   },
   "outputs": [],
   "source": [
    "cat = pd.Categorical(Buildings_known[\"gfkbaw\"]).categories"
   ]
  },
  {
   "cell_type": "code",
   "execution_count": 9,
   "metadata": {
    "collapsed": true
   },
   "outputs": [],
   "source": [
    "Buildings_s = Buildings_known.sample(int(Buildings.shape[0] * 0.1))"
   ]
  },
  {
   "cell_type": "code",
   "execution_count": 10,
   "metadata": {
    "collapsed": true
   },
   "outputs": [],
   "source": [
    "#Buildings_s_index = Buildings_s.index"
   ]
  },
  {
   "cell_type": "code",
   "execution_count": 11,
   "metadata": {
    "collapsed": false
   },
   "outputs": [],
   "source": [
    "Buildings_known.drop(Buildings_s.index, inplace=True)"
   ]
  },
  {
   "cell_type": "code",
   "execution_count": 12,
   "metadata": {
    "collapsed": false
   },
   "outputs": [],
   "source": [
    "for c in cat:\n",
    "    row = pd.Series(['','',0.0,0.0,0.0,c],\n",
    "                    index=Buildings_s.columns, name=\"delete-me\")\n",
    "    Buildings_s = Buildings_s.append(row.T)"
   ]
  },
  {
   "cell_type": "code",
   "execution_count": 13,
   "metadata": {
    "collapsed": true
   },
   "outputs": [],
   "source": [
    "drop_cat = [a for a in pd.Categorical(Buildings_s[\"gfkbaw\"]).categories.tolist() \\\n",
    "            if a not in pd.Categorical(Buildings_known[\"gfkbaw\"]).categories.tolist()]"
   ]
  },
  {
   "cell_type": "code",
   "execution_count": 14,
   "metadata": {
    "collapsed": false
   },
   "outputs": [
    {
     "data": {
      "text/plain": [
       "[]"
      ]
     },
     "execution_count": 14,
     "metadata": {},
     "output_type": "execute_result"
    }
   ],
   "source": [
    "drop_cat"
   ]
  },
  {
   "cell_type": "code",
   "execution_count": 15,
   "metadata": {
    "collapsed": false
   },
   "outputs": [],
   "source": [
    "Buildings_s.drop(Buildings_s.loc[[a in drop_cat for a in Buildings_s.gfkbaw]].index, inplace=True)"
   ]
  },
  {
   "cell_type": "code",
   "execution_count": 16,
   "metadata": {
    "collapsed": false
   },
   "outputs": [],
   "source": [
    "#assert(all(pd.Categorical(Buildings_known[\"gfkbaw\"]).categories == pd.Categorical(Buildings_s[\"gfkbaw\"]).categories))"
   ]
  },
  {
   "cell_type": "markdown",
   "metadata": {},
   "source": [
    "#2. Linear regression"
   ]
  },
  {
   "cell_type": "code",
   "execution_count": 17,
   "metadata": {
    "collapsed": false
   },
   "outputs": [],
   "source": [
    "formula = 'bja ~ sqm + shell_wall + C(gfkbaw)'\n",
    "#formula = 'bja ~ sqm + shell_wall'\n",
    "model = smf.ols(formula=formula, data=Buildings_known)\n",
    "result = model.fit()"
   ]
  },
  {
   "cell_type": "code",
   "execution_count": 18,
   "metadata": {
    "collapsed": false
   },
   "outputs": [
    {
     "data": {
      "text/html": [
       "<table class=\"simpletable\">\n",
       "<caption>OLS Regression Results</caption>\n",
       "<tr>\n",
       "  <th>Dep. Variable:</th>           <td>bja</td>       <th>  R-squared:         </th> <td>   0.276</td>\n",
       "</tr>\n",
       "<tr>\n",
       "  <th>Model:</th>                   <td>OLS</td>       <th>  Adj. R-squared:    </th> <td>   0.243</td>\n",
       "</tr>\n",
       "<tr>\n",
       "  <th>Method:</th>             <td>Least Squares</td>  <th>  F-statistic:       </th> <td>   8.417</td>\n",
       "</tr>\n",
       "<tr>\n",
       "  <th>Date:</th>             <td>Fri, 30 Oct 2015</td> <th>  Prob (F-statistic):</th> <td>3.17e-18</td>\n",
       "</tr>\n",
       "<tr>\n",
       "  <th>Time:</th>                 <td>16:55:11</td>     <th>  Log-Likelihood:    </th> <td> -1843.7</td>\n",
       "</tr>\n",
       "<tr>\n",
       "  <th>No. Observations:</th>      <td>   394</td>      <th>  AIC:               </th> <td>   3723.</td>\n",
       "</tr>\n",
       "<tr>\n",
       "  <th>Df Residuals:</th>          <td>   376</td>      <th>  BIC:               </th> <td>   3795.</td>\n",
       "</tr>\n",
       "<tr>\n",
       "  <th>Df Model:</th>              <td>    17</td>      <th>                     </th>     <td> </td>   \n",
       "</tr>\n",
       "<tr>\n",
       "  <th>Covariance Type:</th>      <td>nonrobust</td>    <th>                     </th>     <td> </td>   \n",
       "</tr>\n",
       "</table>\n",
       "<table class=\"simpletable\">\n",
       "<tr>\n",
       "            <td></td>              <th>coef</th>     <th>std err</th>      <th>t</th>      <th>P>|t|</th> <th>[95.0% Conf. Int.]</th> \n",
       "</tr>\n",
       "<tr>\n",
       "  <th>Intercept</th>            <td> 1969.5808</td> <td>   10.936</td> <td>  180.105</td> <td> 0.000</td> <td> 1948.078  1991.084</td>\n",
       "</tr>\n",
       "<tr>\n",
       "  <th>C(gfkbaw)[T.10-2400]</th> <td>   -6.8894</td> <td>   11.264</td> <td>   -0.612</td> <td> 0.541</td> <td>  -29.037    15.259</td>\n",
       "</tr>\n",
       "<tr>\n",
       "  <th>C(gfkbaw)[T.10-2500]</th> <td>    3.5753</td> <td>   11.288</td> <td>    0.317</td> <td> 0.752</td> <td>  -18.619    25.770</td>\n",
       "</tr>\n",
       "<tr>\n",
       "  <th>C(gfkbaw)[T.10-None]</th> <td>   11.8594</td> <td>   18.882</td> <td>    0.628</td> <td> 0.530</td> <td>  -25.268    48.987</td>\n",
       "</tr>\n",
       "<tr>\n",
       "  <th>C(gfkbaw)[T.11-1200]</th> <td>   33.6751</td> <td>   16.173</td> <td>    2.082</td> <td> 0.038</td> <td>    1.874    65.476</td>\n",
       "</tr>\n",
       "<tr>\n",
       "  <th>C(gfkbaw)[T.11-2400]</th> <td>  -10.6318</td> <td>   11.662</td> <td>   -0.912</td> <td> 0.363</td> <td>  -33.563    12.300</td>\n",
       "</tr>\n",
       "<tr>\n",
       "  <th>C(gfkbaw)[T.11-2500]</th> <td>    1.0485</td> <td>   11.730</td> <td>    0.089</td> <td> 0.929</td> <td>  -22.017    24.113</td>\n",
       "</tr>\n",
       "<tr>\n",
       "  <th>C(gfkbaw)[T.11-None]</th> <td>   30.1389</td> <td>   18.881</td> <td>    1.596</td> <td> 0.111</td> <td>   -6.987    67.264</td>\n",
       "</tr>\n",
       "<tr>\n",
       "  <th>C(gfkbaw)[T.20-None]</th> <td>   23.2750</td> <td>   11.476</td> <td>    2.028</td> <td> 0.043</td> <td>    0.709    45.841</td>\n",
       "</tr>\n",
       "<tr>\n",
       "  <th>C(gfkbaw)[T.21-None]</th> <td>  -21.4846</td> <td>   21.788</td> <td>   -0.986</td> <td> 0.325</td> <td>  -64.327    21.357</td>\n",
       "</tr>\n",
       "<tr>\n",
       "  <th>C(gfkbaw)[T.23-None]</th> <td>  -11.5480</td> <td>   14.414</td> <td>   -0.801</td> <td> 0.424</td> <td>  -39.890    16.794</td>\n",
       "</tr>\n",
       "<tr>\n",
       "  <th>C(gfkbaw)[T.24-None]</th> <td>   34.6734</td> <td>   11.781</td> <td>    2.943</td> <td> 0.003</td> <td>   11.509    57.838</td>\n",
       "</tr>\n",
       "<tr>\n",
       "  <th>C(gfkbaw)[T.25-None]</th> <td>   36.3642</td> <td>   28.827</td> <td>    1.261</td> <td> 0.208</td> <td>  -20.318    93.047</td>\n",
       "</tr>\n",
       "<tr>\n",
       "  <th>C(gfkbaw)[T.30-None]</th> <td>    0.6419</td> <td>   13.804</td> <td>    0.047</td> <td> 0.963</td> <td>  -26.502    27.785</td>\n",
       "</tr>\n",
       "<tr>\n",
       "  <th>C(gfkbaw)[T.32-None]</th> <td>   31.6087</td> <td>   28.814</td> <td>    1.097</td> <td> 0.273</td> <td>  -25.048    88.265</td>\n",
       "</tr>\n",
       "<tr>\n",
       "  <th>C(gfkbaw)[T.99-None]</th> <td>  -35.3862</td> <td>   18.869</td> <td>   -1.875</td> <td> 0.062</td> <td>  -72.487     1.715</td>\n",
       "</tr>\n",
       "<tr>\n",
       "  <th>sqm</th>                  <td>    0.0004</td> <td>    0.000</td> <td>    1.077</td> <td> 0.282</td> <td>   -0.000     0.001</td>\n",
       "</tr>\n",
       "<tr>\n",
       "  <th>shell_wall</th>           <td>    0.0003</td> <td>    0.001</td> <td>    0.340</td> <td> 0.734</td> <td>   -0.002     0.002</td>\n",
       "</tr>\n",
       "</table>\n",
       "<table class=\"simpletable\">\n",
       "<tr>\n",
       "  <th>Omnibus:</th>       <td>137.228</td> <th>  Durbin-Watson:     </th> <td>   1.768</td>\n",
       "</tr>\n",
       "<tr>\n",
       "  <th>Prob(Omnibus):</th> <td> 0.000</td>  <th>  Jarque-Bera (JB):  </th> <td> 415.891</td>\n",
       "</tr>\n",
       "<tr>\n",
       "  <th>Skew:</th>          <td>-1.625</td>  <th>  Prob(JB):          </th> <td>4.90e-91</td>\n",
       "</tr>\n",
       "<tr>\n",
       "  <th>Kurtosis:</th>      <td> 6.843</td>  <th>  Cond. No.          </th> <td>2.06e+05</td>\n",
       "</tr>\n",
       "</table>"
      ],
      "text/plain": [
       "<class 'statsmodels.iolib.summary.Summary'>\n",
       "\"\"\"\n",
       "                            OLS Regression Results                            \n",
       "==============================================================================\n",
       "Dep. Variable:                    bja   R-squared:                       0.276\n",
       "Model:                            OLS   Adj. R-squared:                  0.243\n",
       "Method:                 Least Squares   F-statistic:                     8.417\n",
       "Date:                Fri, 30 Oct 2015   Prob (F-statistic):           3.17e-18\n",
       "Time:                        16:55:11   Log-Likelihood:                -1843.7\n",
       "No. Observations:                 394   AIC:                             3723.\n",
       "Df Residuals:                     376   BIC:                             3795.\n",
       "Df Model:                          17                                         \n",
       "Covariance Type:            nonrobust                                         \n",
       "========================================================================================\n",
       "                           coef    std err          t      P>|t|      [95.0% Conf. Int.]\n",
       "----------------------------------------------------------------------------------------\n",
       "Intercept             1969.5808     10.936    180.105      0.000      1948.078  1991.084\n",
       "C(gfkbaw)[T.10-2400]    -6.8894     11.264     -0.612      0.541       -29.037    15.259\n",
       "C(gfkbaw)[T.10-2500]     3.5753     11.288      0.317      0.752       -18.619    25.770\n",
       "C(gfkbaw)[T.10-None]    11.8594     18.882      0.628      0.530       -25.268    48.987\n",
       "C(gfkbaw)[T.11-1200]    33.6751     16.173      2.082      0.038         1.874    65.476\n",
       "C(gfkbaw)[T.11-2400]   -10.6318     11.662     -0.912      0.363       -33.563    12.300\n",
       "C(gfkbaw)[T.11-2500]     1.0485     11.730      0.089      0.929       -22.017    24.113\n",
       "C(gfkbaw)[T.11-None]    30.1389     18.881      1.596      0.111        -6.987    67.264\n",
       "C(gfkbaw)[T.20-None]    23.2750     11.476      2.028      0.043         0.709    45.841\n",
       "C(gfkbaw)[T.21-None]   -21.4846     21.788     -0.986      0.325       -64.327    21.357\n",
       "C(gfkbaw)[T.23-None]   -11.5480     14.414     -0.801      0.424       -39.890    16.794\n",
       "C(gfkbaw)[T.24-None]    34.6734     11.781      2.943      0.003        11.509    57.838\n",
       "C(gfkbaw)[T.25-None]    36.3642     28.827      1.261      0.208       -20.318    93.047\n",
       "C(gfkbaw)[T.30-None]     0.6419     13.804      0.047      0.963       -26.502    27.785\n",
       "C(gfkbaw)[T.32-None]    31.6087     28.814      1.097      0.273       -25.048    88.265\n",
       "C(gfkbaw)[T.99-None]   -35.3862     18.869     -1.875      0.062       -72.487     1.715\n",
       "sqm                      0.0004      0.000      1.077      0.282        -0.000     0.001\n",
       "shell_wall               0.0003      0.001      0.340      0.734        -0.002     0.002\n",
       "==============================================================================\n",
       "Omnibus:                      137.228   Durbin-Watson:                   1.768\n",
       "Prob(Omnibus):                  0.000   Jarque-Bera (JB):              415.891\n",
       "Skew:                          -1.625   Prob(JB):                     4.90e-91\n",
       "Kurtosis:                       6.843   Cond. No.                     2.06e+05\n",
       "==============================================================================\n",
       "\n",
       "Warnings:\n",
       "[1] Standard Errors assume that the covariance matrix of the errors is correctly specified.\n",
       "[2] The condition number is large, 2.06e+05. This might indicate that there are\n",
       "strong multicollinearity or other numerical problems.\n",
       "\"\"\""
      ]
     },
     "execution_count": 18,
     "metadata": {},
     "output_type": "execute_result"
    }
   ],
   "source": [
    "result.summary()"
   ]
  },
  {
   "cell_type": "markdown",
   "metadata": {},
   "source": [
    "#3. Performance"
   ]
  },
  {
   "cell_type": "code",
   "execution_count": 19,
   "metadata": {
    "collapsed": false
   },
   "outputs": [],
   "source": [
    "dat = Buildings_s.loc[:, ['sqm','shell_wall', 'gfkbaw']]"
   ]
  },
  {
   "cell_type": "code",
   "execution_count": 20,
   "metadata": {
    "collapsed": false
   },
   "outputs": [],
   "source": [
    "dat.drop(\"delete-me\", inplace=True)\n",
    "Buildings_s.drop(\"delete-me\", inplace=True)"
   ]
  },
  {
   "cell_type": "code",
   "execution_count": 21,
   "metadata": {
    "collapsed": false
   },
   "outputs": [],
   "source": [
    "estimated = result.predict(dat)\n",
    "observed = Buildings_s.bja.tolist()\n",
    "plotData = pd.DataFrame({\"Estimated\":estimated, \"Observed\":observed})"
   ]
  },
  {
   "cell_type": "code",
   "execution_count": 22,
   "metadata": {
    "collapsed": false
   },
   "outputs": [
    {
     "data": {
      "image/png": "[encoded data removed]",
      "text/plain": [
       "<matplotlib.figure.Figure at 0x7f11becfe6d8>"
      ]
     },
     "metadata": {},
     "output_type": "display_data"
    }
   ],
   "source": [
    "plotPerformance(plotData, sufix=\"-ols\")"
   ]
  },
  {
   "cell_type": "code",
   "execution_count": 23,
   "metadata": {
    "collapsed": false
   },
   "outputs": [
    {
     "data": {
      "text/plain": [
       "17.954733562223172"
      ]
     },
     "execution_count": 23,
     "metadata": {},
     "output_type": "execute_result"
    }
   ],
   "source": [
    "np.mean(abs(plotData.Estimated - plotData.Observed))"
   ]
  },
  {
   "cell_type": "code",
   "execution_count": 24,
   "metadata": {
    "collapsed": false
   },
   "outputs": [
    {
     "data": {
      "text/plain": [
       "18.083391418514026"
      ]
     },
     "execution_count": 24,
     "metadata": {},
     "output_type": "execute_result"
    }
   ],
   "source": [
    "np.std(abs(plotData.Estimated - plotData.Observed))"
   ]
  },
  {
   "cell_type": "code",
   "execution_count": null,
   "metadata": {
    "collapsed": true
   },
   "outputs": [],
   "source": []
  }
 ],
 "metadata": {
  "kernelspec": {
   "display_name": "Python 3",
   "language": "python",
   "name": "python3"
  },
  "language_info": {
   "codemirror_mode": {
    "name": "ipython",
    "version": 3
   },
   "file_extension": ".py",
   "mimetype": "text/x-python",
   "name": "python",
   "nbconvert_exporter": "python",
   "pygments_lexer": "ipython3",
   "version": "3.4.3"
  }
 },
 "nbformat": 4,
 "nbformat_minor": 0
}
